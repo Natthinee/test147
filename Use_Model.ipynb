{
 "cells": [
  {
   "cell_type": "code",
   "execution_count": 2,
   "metadata": {},
   "outputs": [
    {
     "name": "stderr",
     "output_type": "stream",
     "text": [
      "Using CNTK backend\n"
     ]
    }
   ],
   "source": [
    "import os\n",
    "import numpy as np\n",
    "import keras\n",
    "import cntk\n",
    "from scipy.io import wavfile\n",
    "# keras.models.load_model(filepath)"
   ]
  },
  {
   "cell_type": "code",
   "execution_count": 3,
   "metadata": {},
   "outputs": [
    {
     "data": {
      "text/plain": [
       "True"
      ]
     },
     "execution_count": 3,
     "metadata": {},
     "output_type": "execute_result"
    }
   ],
   "source": [
    "cntk.try_set_default_device( cntk.all_devices()[0] )"
   ]
  },
  {
   "cell_type": "code",
   "execution_count": 4,
   "metadata": {},
   "outputs": [],
   "source": [
    "def evalualte_Multilayer(file_path, sec=1):\n",
    "    \n",
    "    rate, audio = wavfile.read( file_path )\n",
    "    rate*=sec\n",
    "    audio = np.mean(audio, axis=1)\n",
    "    audio = np.trim_zeros(audio)\n",
    "    audio = audio[:len(audio)-(len(audio)%rate)]\n",
    "    rates = [ audio[i:i+rate] for i in range( 0, len(audio), rate ) ]\n",
    "\n",
    "    x_test = np.asarray( [rate for rate in rates], dtype=np.float32 )\n",
    "    x_test = np.tanh( x_test )\n",
    "\n",
    "    label = 1\n",
    "    if \"ปกติ\" in file_path:\n",
    "        label = 0\n",
    "    results = model.predict( x_test )\n",
    "    count_label = 0\n",
    "    for result in results:\n",
    "        i = np.argmax(result)\n",
    "        if i == label:\n",
    "            count_label += 1\n",
    "        \n",
    "    count_wrong = len( x_test ) - count_label\n",
    "    \n",
    "    if count_wrong > count_label:\n",
    "        return \"ปกติ\"\n",
    "    if count_wrong == count_label:\n",
    "        return \"ปกติ\"\n",
    "    return \"เศร้า\""
   ]
  },
  {
   "cell_type": "code",
   "execution_count": 5,
   "metadata": {},
   "outputs": [],
   "source": [
    "def evalualte_CNN_1D(file_path, sec=1):\n",
    "    print( \"FILE: %s => \" % file_path , end=\"\" )\n",
    "    rate, audio = wavfile.read( file_path )\n",
    "    rate*=sec\n",
    "    audio = np.mean(audio, axis=1)\n",
    "    audio = np.trim_zeros(audio)\n",
    "    audio = audio[:len(audio)-(len(audio)%rate)]\n",
    "    rates = [ audio[i:i+rate] for i in range( 0, len(audio), rate ) ]\n",
    "\n",
    "    x_test = np.asarray( [rate for rate in rates], dtype=np.float32 )\n",
    "    x_test = np.tanh(x_test)\n",
    "    x_test = x_test.reshape( x_test.shape[0], x_test.shape[1], 1 )\n",
    "    label = 1\n",
    "    if \"ปกติ\" in file_path:\n",
    "        label = 0\n",
    "    results = model.predict( x_test )\n",
    "    count_label = 0\n",
    "    for result in results:\n",
    "        i = np.argmax(result)\n",
    "        if i == label:\n",
    "            count_label += 1\n",
    "        \n",
    "    count_wrong = len( x_test ) - count_label\n",
    "    if count_wrong > count_label:\n",
    "        return \"ปกติ\"\n",
    "    if count_wrong == count_label:\n",
    "        return \"ปกติ\"\n",
    "    return \"เศร้า\""
   ]
  },
  {
   "cell_type": "code",
   "execution_count": 6,
   "metadata": {},
   "outputs": [],
   "source": [
    "def evalualte_CNN_2D(file_path, sec=1):\n",
    "    print( \"FILE: %s => \" % file_path , end=\"\" )\n",
    "    rate, audio = wavfile.read( file_path )\n",
    "    rate*=sec\n",
    "    audio = np.mean(audio, axis=1)\n",
    "    audio = np.trim_zeros(audio)\n",
    "    audio = audio[:len(audio)-(len(audio)%rate)]\n",
    "    rates = [ audio[i:i+rate] for i in range( 0, len(audio), rate ) ]\n",
    "    \n",
    "    \n",
    "\n",
    "    x_test = np.asarray( [np.resize( np.asarray( frame ), (img_rows, img_cols) ) for frame in rates], dtype=np.float32 )\n",
    "    x_test = ( x_test - np.min(x_train2) ) / ( np.max(x_train2) - np.min(x_train2) )\n",
    "    x_test = x_test.reshape(x_test.shape[0], img_rows, img_cols, 1)\n",
    "    \n",
    "    \n",
    "    label = 1\n",
    "    if \"ปกติ\" in file_path:\n",
    "        label = 0\n",
    "    results = model.predict( x_test )\n",
    "    count_label = 0\n",
    "    for result in results:\n",
    "        i = np.argmax(result)\n",
    "        if i == label:\n",
    "            count_label += 1\n",
    "        \n",
    "    count_wrong = len( x_test ) - count_label\n",
    "    if count_wrong > count_label:\n",
    "        return \"ปกติ\"\n",
    "    if count_wrong == count_label:\n",
    "        return \"ปกติ\"\n",
    "    return \"เศร้า\""
   ]
  },
  {
   "cell_type": "code",
   "execution_count": 7,
   "metadata": {},
   "outputs": [
    {
     "name": "stdout",
     "output_type": "stream",
     "text": [
      "(None, 132300)\n",
      "_________________________________________________________________\n",
      "Layer (type)                 Output Shape              Param #   \n",
      "=================================================================\n",
      "dense_1 (Dense)              (None, 256)               33869056  \n",
      "_________________________________________________________________\n",
      "activation_1 (Activation)    (None, 256)               0         \n",
      "_________________________________________________________________\n",
      "dense_2 (Dense)              (None, 128)               32896     \n",
      "_________________________________________________________________\n",
      "activation_2 (Activation)    (None, 128)               0         \n",
      "_________________________________________________________________\n",
      "dropout_1 (Dropout)          (None, 128)               0         \n",
      "_________________________________________________________________\n",
      "dense_3 (Dense)              (None, 2)                 258       \n",
      "_________________________________________________________________\n",
      "activation_3 (Activation)    (None, 2)                 0         \n",
      "=================================================================\n",
      "Total params: 33,902,210\n",
      "Trainable params: 33,902,210\n",
      "Non-trainable params: 0\n",
      "_________________________________________________________________\n"
     ]
    }
   ],
   "source": [
    "model_folder = os.path.join( os.getcwd(), \"Model\" )\n",
    "model_name = \"Model_0001.h5\"\n",
    "\n",
    "model = keras.models.load_model( os.path.join( model_folder, model_name ) )\n",
    "\n",
    "print( model.input_shape )\n",
    "model.summary()"
   ]
  },
  {
   "cell_type": "code",
   "execution_count": 10,
   "metadata": {},
   "outputs": [
    {
     "name": "stdout",
     "output_type": "stream",
     "text": [
      "FILE: D:\\Documents\\Works\\Dreparion\\WAV_files\\ปกติ01.wav => เศร้า\n"
     ]
    }
   ],
   "source": [
    "\n",
    "sec = 3\n",
    "img_rows = 28\n",
    "img_cols = 28\n",
    "input_shape = (img_rows, img_cols, 1)\n",
    "\n",
    "file_folder = os.path.join( os.getcwd() , \"WAV_files\" )\n",
    "file_path = os.path.join( file_folder, \"ปกติ01.wav\" )\n",
    "path = file_path\n",
    "\n",
    "print( \"FILE: %s => \" % path, end=\"\" )\n",
    "# ------------------------------------\n",
    "ans = evalualte_Multilayer(path, sec)\n",
    "# ans = evalualte_CNN_1D(path, sec)\n",
    "# ans = evalualte_CNN_2D(path, sec)\n",
    "# ------------------------------------\n",
    "print(ans)"
   ]
  },
  {
   "cell_type": "code",
   "execution_count": null,
   "metadata": {},
   "outputs": [],
   "source": []
  },
  {
   "cell_type": "code",
   "execution_count": null,
   "metadata": {},
   "outputs": [],
   "source": []
  }
 ],
 "metadata": {
  "kernelspec": {
   "display_name": "Python 3",
   "language": "python",
   "name": "python3"
  },
  "language_info": {
   "codemirror_mode": {
    "name": "ipython",
    "version": 3
   },
   "file_extension": ".py",
   "mimetype": "text/x-python",
   "name": "python",
   "nbconvert_exporter": "python",
   "pygments_lexer": "ipython3",
   "version": "3.6.6"
  }
 },
 "nbformat": 4,
 "nbformat_minor": 2
}
