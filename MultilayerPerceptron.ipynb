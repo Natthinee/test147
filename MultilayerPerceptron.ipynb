{
 "cells": [
  {
   "cell_type": "code",
   "execution_count": 1,
   "metadata": {},
   "outputs": [
    {
     "name": "stderr",
     "output_type": "stream",
     "text": [
      "Using CNTK backend\n",
      "C:\\Users\\Chanok Pathompatai\\Anaconda3\\envs\\cntk-py36\\lib\\site-packages\\keras\\backend\\cntk_backend.py:25: UserWarning: CNTK backend warning: GPU is not detected. CNTK's CPU version is not fully optimized,please run with GPU to get better performance.\n",
      "  'CNTK backend warning: GPU is not detected. '\n"
     ]
    }
   ],
   "source": [
    "import os\n",
    "\n",
    "import cntk\n",
    "import keras\n",
    "from keras.models import Sequential\n",
    "from keras.layers import Dense, Activation, Dropout\n",
    "from keras.optimizers import SGD\n",
    "\n",
    "from scipy.io import wavfile\n",
    "import numpy as np\n",
    "from random import shuffle\n",
    "import math"
   ]
  },
  {
   "cell_type": "markdown",
   "metadata": {},
   "source": [
    "## FRAMEWORK"
   ]
  },
  {
   "cell_type": "code",
   "execution_count": 2,
   "metadata": {},
   "outputs": [
    {
     "ename": "RuntimeError",
     "evalue": "Process wide default device cannot be changed since it has been frozen by being implicitly used as the default device in a CNTK API call; Current default = CPU, New default = GPU[0] GeForce GTX 1050.\n\n[CALL STACK]\n    > std::enable_shared_from_this<Microsoft::MSR::CNTK::MatrixBase>::  operator=\n    - CNTK::DeviceDescriptor::  TrySetDefaultDevice\n    - PyInit__cntk_py (x2)\n    - PyCFunction_FastCallDict\n    - PyObject_CallFunctionObjArgs\n    - PyEval_EvalFrameDefault\n    - Py_CheckFunctionResult\n    - PyObject_CallFunctionObjArgs\n    - PyEval_EvalFrameDefault\n    - Py_CheckFunctionResult\n    - PyEval_GetGlobals (x2)\n    - PyCFunction_FastCallDict\n    - PyObject_CallFunctionObjArgs\n    - PyEval_EvalFrameDefault\n\n",
     "output_type": "error",
     "traceback": [
      "\u001b[1;31m---------------------------------------------------------------------------\u001b[0m",
      "\u001b[1;31mRuntimeError\u001b[0m                              Traceback (most recent call last)",
      "\u001b[1;32m<ipython-input-2-caae113fdf3f>\u001b[0m in \u001b[0;36m<module>\u001b[1;34m()\u001b[0m\n\u001b[1;32m----> 1\u001b[1;33m \u001b[0mcntk\u001b[0m\u001b[1;33m.\u001b[0m\u001b[0mtry_set_default_device\u001b[0m\u001b[1;33m(\u001b[0m \u001b[0mcntk\u001b[0m\u001b[1;33m.\u001b[0m\u001b[0mall_devices\u001b[0m\u001b[1;33m(\u001b[0m\u001b[1;33m)\u001b[0m\u001b[1;33m[\u001b[0m\u001b[1;36m0\u001b[0m\u001b[1;33m]\u001b[0m \u001b[1;33m)\u001b[0m\u001b[1;33m\u001b[0m\u001b[0m\n\u001b[0m",
      "\u001b[1;32m~\\Anaconda3\\envs\\cntk-py36\\lib\\site-packages\\cntk\\device.py\u001b[0m in \u001b[0;36mtry_set_default_device\u001b[1;34m(new_default_device, acquire_device_lock)\u001b[0m\n\u001b[0;32m    147\u001b[0m     '''\n\u001b[0;32m    148\u001b[0m     return cntk_py.DeviceDescriptor.try_set_default_device(new_default_device,\n\u001b[1;32m--> 149\u001b[1;33m                                                            acquire_device_lock)\n\u001b[0m\u001b[0;32m    150\u001b[0m \u001b[1;33m\u001b[0m\u001b[0m\n\u001b[0;32m    151\u001b[0m \u001b[1;33m\u001b[0m\u001b[0m\n",
      "\u001b[1;31mRuntimeError\u001b[0m: Process wide default device cannot be changed since it has been frozen by being implicitly used as the default device in a CNTK API call; Current default = CPU, New default = GPU[0] GeForce GTX 1050.\n\n[CALL STACK]\n    > std::enable_shared_from_this<Microsoft::MSR::CNTK::MatrixBase>::  operator=\n    - CNTK::DeviceDescriptor::  TrySetDefaultDevice\n    - PyInit__cntk_py (x2)\n    - PyCFunction_FastCallDict\n    - PyObject_CallFunctionObjArgs\n    - PyEval_EvalFrameDefault\n    - Py_CheckFunctionResult\n    - PyObject_CallFunctionObjArgs\n    - PyEval_EvalFrameDefault\n    - Py_CheckFunctionResult\n    - PyEval_GetGlobals (x2)\n    - PyCFunction_FastCallDict\n    - PyObject_CallFunctionObjArgs\n    - PyEval_EvalFrameDefault\n\n"
     ]
    }
   ],
   "source": [
    "cntk.try_set_default_device( cntk.all_devices()[0] )"
   ]
  },
  {
   "cell_type": "markdown",
   "metadata": {},
   "source": [
    "## DATA PREPARATION"
   ]
  },
  {
   "cell_type": "code",
   "execution_count": 4,
   "metadata": {},
   "outputs": [],
   "source": [
    "sec = 3\n",
    "\n",
    "root, _dirs, files = next(os.walk( os.path.join( os.getcwd(), os.path.join( \"dataset\", \"train\" ))))\n",
    "train_paths = [ os.path.join( root, file ) for file in files ]\n",
    "\n",
    "root, _dirs, files = next(os.walk( os.path.join( os.getcwd(), os.path.join( \"dataset\", \"test\" ))))\n",
    "test_paths = [ os.path.join( root, file ) for file in files ]"
   ]
  },
  {
   "cell_type": "code",
   "execution_count": 8,
   "metadata": {},
   "outputs": [],
   "source": [
    "def create_samples(file_path, sec=1):\n",
    "    rate, audio = wavfile.read( file_path )\n",
    "    rate *= sec\n",
    "    audio = np.mean(audio, axis=1)\n",
    "    audio = np.trim_zeros(audio)\n",
    "    audio = audio[:len(audio)-(len(audio)%rate)]\n",
    "    rates = [ audio[i:i+rate] for i in range( 0, len(audio), rate ) ]\n",
    "    return rates"
   ]
  },
  {
   "cell_type": "code",
   "execution_count": 5,
   "metadata": {},
   "outputs": [],
   "source": [
    "def get_samples(paths, sec=1):\n",
    "    samples = []\n",
    "    for file_path in paths:\n",
    "        rates = create_samples(file_path=file_path, sec=sec)\n",
    "        if \"ปกติ\" in file_path:\n",
    "            label = 0\n",
    "        else:\n",
    "            label = 1\n",
    "        for frame in rates:\n",
    "            samples.append( (frame, label) )\n",
    "    shuffle(samples)\n",
    "    return samples"
   ]
  },
  {
   "cell_type": "code",
   "execution_count": 6,
   "metadata": {},
   "outputs": [],
   "source": [
    "samples = get_samples( train_paths, sec )\n",
    "x_train = np.asarray( [sample[0] for sample in samples] ,dtype=np.float32)\n",
    "x_train = np.tanh( x_train )\n",
    "# x_train = np.tan( x_train )\n",
    "y_train = keras.utils.to_categorical(np.asarray( [sample[1] for sample in samples] ), num_classes=2)"
   ]
  },
  {
   "cell_type": "code",
   "execution_count": null,
   "metadata": {},
   "outputs": [],
   "source": [
    "x_train.shape"
   ]
  },
  {
   "cell_type": "markdown",
   "metadata": {},
   "source": [
    "## MODEL"
   ]
  },
  {
   "cell_type": "code",
   "execution_count": 7,
   "metadata": {},
   "outputs": [],
   "source": [
    "def get_logistic_model(input_dim):\n",
    "    \n",
    "    model = Sequential()\n",
    "    \n",
    "    model.add(Dense(256, input_dim=input_dim))\n",
    "    model.add(Activation('linear'))\n",
    "#     model.add(Dropout(0.5))\n",
    "    model.add(Dense(128))\n",
    "    model.add(Activation('linear'))\n",
    "#     model.add(Dropout(0.5))\n",
    "#     model.add(Dense(32))\n",
    "#     model.add(Activation('linear'))\n",
    "    model.add(Dropout(0.5))\n",
    "    model.add(Dense(2))\n",
    "    model.add(Activation('softmax'))\n",
    "    \n",
    "    sgd = SGD(lr=0.001, decay=1e-6, momentum=0.9, nesterov=True)\n",
    "    model.compile(loss='categorical_crossentropy',\n",
    "              optimizer=sgd,\n",
    "              metrics=['accuracy'])\n",
    "    \n",
    "    return model"
   ]
  },
  {
   "cell_type": "code",
   "execution_count": 8,
   "metadata": {},
   "outputs": [
    {
     "name": "stdout",
     "output_type": "stream",
     "text": [
      "Epoch 1/50\n",
      "357/357 [==============================] - 0s 1ms/step - loss: 1.7328 - acc: 0.5238\n",
      "Epoch 2/50\n",
      "357/357 [==============================] - 0s 819us/step - loss: 0.3588 - acc: 0.8571\n",
      "Epoch 3/50\n",
      "357/357 [==============================] - 0s 807us/step - loss: 0.1464 - acc: 0.9468\n",
      "Epoch 4/50\n",
      "357/357 [==============================] - 0s 807us/step - loss: 0.1344 - acc: 0.9664\n",
      "Epoch 5/50\n",
      "357/357 [==============================] - 0s 810us/step - loss: 0.0057 - acc: 1.0000\n",
      "Epoch 6/50\n",
      "357/357 [==============================] - 0s 818us/step - loss: 0.0294 - acc: 0.9888\n",
      "Epoch 7/50\n",
      "357/357 [==============================] - 0s 807us/step - loss: 0.0131 - acc: 0.9944\n",
      "Epoch 8/50\n",
      "357/357 [==============================] - 0s 810us/step - loss: 0.0048 - acc: 1.0000\n",
      "Epoch 9/50\n",
      "357/357 [==============================] - 0s 812us/step - loss: 0.0020 - acc: 1.0000\n",
      "Epoch 10/50\n",
      "357/357 [==============================] - 0s 806us/step - loss: 8.7328e-04 - acc: 1.0000\n",
      "Epoch 11/50\n",
      "357/357 [==============================] - 0s 814us/step - loss: 5.9162e-04 - acc: 1.0000\n",
      "Epoch 12/50\n",
      "357/357 [==============================] - 0s 813us/step - loss: 0.0021 - acc: 1.0000\n",
      "Epoch 13/50\n",
      "357/357 [==============================] - 0s 803us/step - loss: 0.0038 - acc: 0.9972\n",
      "Epoch 14/50\n",
      "357/357 [==============================] - 0s 802us/step - loss: 0.0054 - acc: 0.9972\n",
      "Epoch 15/50\n",
      "357/357 [==============================] - 0s 813us/step - loss: 0.0044 - acc: 0.9972\n",
      "Epoch 16/50\n",
      "357/357 [==============================] - 0s 802us/step - loss: 4.8469e-04 - acc: 1.0000\n",
      "Epoch 17/50\n",
      "357/357 [==============================] - 0s 802us/step - loss: 3.9384e-05 - acc: 1.0000\n",
      "Epoch 18/50\n",
      "357/357 [==============================] - 0s 807us/step - loss: 5.9735e-05 - acc: 1.0000\n",
      "Epoch 19/50\n",
      "357/357 [==============================] - 0s 803us/step - loss: 6.7426e-04 - acc: 1.0000\n",
      "Epoch 20/50\n",
      "357/357 [==============================] - 0s 807us/step - loss: 1.4928e-04 - acc: 1.0000\n",
      "Epoch 21/50\n",
      "357/357 [==============================] - 0s 804us/step - loss: 0.0077 - acc: 0.9972\n",
      "Epoch 22/50\n",
      "357/357 [==============================] - 0s 802us/step - loss: 9.2652e-05 - acc: 1.0000\n",
      "Epoch 23/50\n",
      "357/357 [==============================] - 0s 814us/step - loss: 5.3698e-04 - acc: 1.0000\n",
      "Epoch 24/50\n",
      "357/357 [==============================] - 0s 805us/step - loss: 6.3270e-05 - acc: 1.0000\n",
      "Epoch 25/50\n",
      "357/357 [==============================] - 0s 860us/step - loss: 4.1701e-05 - acc: 1.0000\n",
      "Epoch 26/50\n",
      "357/357 [==============================] - 0s 813us/step - loss: 5.5077e-05 - acc: 1.0000\n",
      "Epoch 27/50\n",
      "357/357 [==============================] - 0s 805us/step - loss: 6.6200e-04 - acc: 1.0000\n",
      "Epoch 28/50\n",
      "357/357 [==============================] - 0s 810us/step - loss: 4.6448e-05 - acc: 1.0000\n",
      "Epoch 29/50\n",
      "357/357 [==============================] - 0s 802us/step - loss: 3.4561e-05 - acc: 1.0000\n",
      "Epoch 30/50\n",
      "357/357 [==============================] - 0s 802us/step - loss: 2.6323e-04 - acc: 1.0000\n",
      "Epoch 31/50\n",
      "357/357 [==============================] - 0s 810us/step - loss: 6.4603e-05 - acc: 1.0000\n",
      "Epoch 32/50\n",
      "357/357 [==============================] - 0s 807us/step - loss: 1.8186e-04 - acc: 1.0000\n",
      "Epoch 33/50\n",
      "357/357 [==============================] - 0s 813us/step - loss: 1.0742e-04 - acc: 1.0000\n",
      "Epoch 34/50\n",
      "357/357 [==============================] - 0s 823us/step - loss: 4.1224e-04 - acc: 1.0000\n",
      "Epoch 35/50\n",
      "357/357 [==============================] - 0s 811us/step - loss: 7.4344e-04 - acc: 1.0000\n",
      "Epoch 36/50\n",
      "357/357 [==============================] - 0s 799us/step - loss: 7.2576e-05 - acc: 1.0000\n",
      "Epoch 37/50\n",
      "357/357 [==============================] - 0s 810us/step - loss: 2.2769e-04 - acc: 1.0000\n",
      "Epoch 38/50\n",
      "357/357 [==============================] - 0s 802us/step - loss: 5.8173e-05 - acc: 1.0000\n",
      "Epoch 39/50\n",
      "357/357 [==============================] - 0s 813us/step - loss: 6.9925e-05 - acc: 1.0000\n",
      "Epoch 40/50\n",
      "357/357 [==============================] - 0s 824us/step - loss: 1.4229e-04 - acc: 1.0000\n",
      "Epoch 41/50\n",
      "357/357 [==============================] - 0s 816us/step - loss: 0.0020 - acc: 0.9972\n",
      "Epoch 42/50\n",
      "357/357 [==============================] - 0s 816us/step - loss: 2.5577e-05 - acc: 1.0000\n",
      "Epoch 43/50\n",
      "357/357 [==============================] - 0s 869us/step - loss: 2.0541e-04 - acc: 1.0000\n",
      "Epoch 44/50\n",
      "357/357 [==============================] - 0s 821us/step - loss: 4.4052e-05 - acc: 1.0000\n",
      "Epoch 45/50\n",
      "357/357 [==============================] - 0s 810us/step - loss: 9.2810e-05 - acc: 1.0000\n",
      "Epoch 46/50\n",
      "357/357 [==============================] - 0s 807us/step - loss: 2.5584e-04 - acc: 1.0000\n",
      "Epoch 47/50\n",
      "357/357 [==============================] - 0s 810us/step - loss: 9.1736e-05 - acc: 1.0000\n",
      "Epoch 48/50\n",
      "357/357 [==============================] - 0s 806us/step - loss: 0.0015 - acc: 1.0000\n",
      "Epoch 49/50\n",
      "357/357 [==============================] - 0s 810us/step - loss: 3.0904e-05 - acc: 1.0000\n",
      "Epoch 50/50\n",
      "357/357 [==============================] - 0s 808us/step - loss: 0.0011 - acc: 1.0000\n"
     ]
    },
    {
     "data": {
      "text/plain": [
       "<keras.callbacks.History at 0x26809ba56a0>"
      ]
     },
     "execution_count": 8,
     "metadata": {},
     "output_type": "execute_result"
    }
   ],
   "source": [
    "model = get_logistic_model( x_train.shape[1] )\n",
    "model.fit( x=x_train, y=y_train, epochs=50, batch_size=200 )"
   ]
  },
  {
   "cell_type": "markdown",
   "metadata": {},
   "source": [
    "## Evaluate"
   ]
  },
  {
   "cell_type": "code",
   "execution_count": 9,
   "metadata": {},
   "outputs": [],
   "source": [
    "def evalualte(file_path, sec=1):\n",
    "    print( \"FILE: %s => \" % file_path, end=\"\" )\n",
    "    rate, audio = wavfile.read( file_path )\n",
    "    rate*=sec\n",
    "    audio = np.mean(audio, axis=1)\n",
    "    audio = np.trim_zeros(audio)\n",
    "    audio = audio[:len(audio)-(len(audio)%rate)]\n",
    "    rates = [ audio[i:i+rate] for i in range( 0, len(audio), rate ) ]\n",
    "\n",
    "    x_test = np.asarray( [rate for rate in rates], dtype=np.float32 )\n",
    "    x_test = np.tanh( x_test )\n",
    "#     x_test = np.tan( x_test )\n",
    "\n",
    "    label = 1\n",
    "    if \"ปกติ\" in file_path:\n",
    "        label = 0\n",
    "    results = model.predict( x_test )\n",
    "    count_label = 0\n",
    "    for result in results:\n",
    "        i = np.argmax(result)\n",
    "        if i == label:\n",
    "            count_label += 1\n",
    "            \n",
    "#         if i == 0:\n",
    "#             print(\"ปกติ\")\n",
    "#         else:\n",
    "#             print(\"เศร้า\")\n",
    "        \n",
    "    count_wrong = len( x_test ) - count_label\n",
    "    \n",
    "    if count_wrong > count_label:\n",
    "        print(\"WRONG\")\n",
    "        return 0\n",
    "    if count_wrong == count_label:\n",
    "        print(\"Do not know\")\n",
    "        return 0\n",
    "    print(\"RIGHT\")\n",
    "    return 1"
   ]
  },
  {
   "cell_type": "code",
   "execution_count": 10,
   "metadata": {},
   "outputs": [
    {
     "name": "stdout",
     "output_type": "stream",
     "text": [
      "FILE: D:\\Documents\\Works\\Dreparion\\dataset\\test\\เศร้า08.wav => Do not know\n",
      "FILE: D:\\Documents\\Works\\Dreparion\\dataset\\test\\เศร้า16.wav => RIGHT\n",
      "FILE: D:\\Documents\\Works\\Dreparion\\dataset\\test\\เศร้า18.wav => RIGHT\n",
      "FILE: D:\\Documents\\Works\\Dreparion\\dataset\\test\\ปกติ59.wav => WRONG\n",
      "FILE: D:\\Documents\\Works\\Dreparion\\dataset\\test\\เศร้า11.wav => Do not know\n",
      "FILE: D:\\Documents\\Works\\Dreparion\\dataset\\test\\เศร้า07.wav => Do not know\n",
      "FILE: D:\\Documents\\Works\\Dreparion\\dataset\\test\\เศร้า13.wav => RIGHT\n",
      "FILE: D:\\Documents\\Works\\Dreparion\\dataset\\test\\เศร้า21.wav => WRONG\n",
      "FILE: D:\\Documents\\Works\\Dreparion\\dataset\\test\\ปกติ64.wav => RIGHT\n",
      "FILE: D:\\Documents\\Works\\Dreparion\\dataset\\test\\ปกติ61.wav => WRONG\n",
      "FILE: D:\\Documents\\Works\\Dreparion\\dataset\\test\\เศร้า20.wav => Do not know\n",
      "FILE: D:\\Documents\\Works\\Dreparion\\dataset\\test\\เศร้า19.wav => RIGHT\n",
      "FILE: D:\\Documents\\Works\\Dreparion\\dataset\\test\\เศร้า15.wav => Do not know\n",
      "FILE: D:\\Documents\\Works\\Dreparion\\dataset\\test\\ปกติ56.wav => WRONG\n",
      "FILE: D:\\Documents\\Works\\Dreparion\\dataset\\test\\เศร้า14.wav => RIGHT\n",
      "FILE: D:\\Documents\\Works\\Dreparion\\dataset\\test\\ปกติ57.wav => WRONG\n",
      "FILE: D:\\Documents\\Works\\Dreparion\\dataset\\test\\ปกติ63.wav => RIGHT\n",
      "FILE: D:\\Documents\\Works\\Dreparion\\dataset\\test\\เศร้า17.wav => WRONG\n",
      "FILE: D:\\Documents\\Works\\Dreparion\\dataset\\test\\เศร้า09.wav => WRONG\n",
      "FILE: D:\\Documents\\Works\\Dreparion\\dataset\\test\\ปกติ62.wav => RIGHT\n",
      "FILE: D:\\Documents\\Works\\Dreparion\\dataset\\test\\เศร้า10.wav => RIGHT\n",
      "FILE: D:\\Documents\\Works\\Dreparion\\dataset\\test\\ปกติ60.wav => WRONG\n",
      "FILE: D:\\Documents\\Works\\Dreparion\\dataset\\test\\เศร้า12.wav => RIGHT\n",
      "FILE: D:\\Documents\\Works\\Dreparion\\dataset\\test\\ปกติ58.wav => WRONG\n",
      "FILE: D:\\Documents\\Works\\Dreparion\\dataset\\test\\ปกติ55.wav => WRONG\n",
      "Acc = 40.00 %\n"
     ]
    }
   ],
   "source": [
    "count = 0\n",
    "shuffle(test_paths)\n",
    "for path in test_paths:\n",
    "    count += evalualte(path, sec)\n",
    "s_acc = \"%.2f\" % (count / len(test_paths) * 100 )\n",
    "print( \"Acc = %s %%\" % s_acc )"
   ]
  },
  {
   "cell_type": "code",
   "execution_count": 11,
   "metadata": {},
   "outputs": [],
   "source": [
    "model_folder = os.path.join( os.getcwd(), \"Model\" )\n",
    "_, _, files = next( os.walk(model_folder) )\n",
    "\n",
    "model_name = \"Model_\" + str(len(files)+1).zfill(4) + \".h5\"\n",
    "model.save( os.path.join( model_folder, model_name ) )\n",
    " \n",
    "with open( 'log.txt', 'a' ) as logfile:\n",
    "    logfile.write( \"%s : %s\\n\" % (model_name, s_acc) )"
   ]
  },
  {
   "cell_type": "code",
   "execution_count": 7,
   "metadata": {},
   "outputs": [
    {
     "ename": "NameError",
     "evalue": "name 'file_path' is not defined",
     "output_type": "error",
     "traceback": [
      "\u001b[1;31m---------------------------------------------------------------------------\u001b[0m",
      "\u001b[1;31mNameError\u001b[0m                                 Traceback (most recent call last)",
      "\u001b[1;32m<ipython-input-7-29f4f609044f>\u001b[0m in \u001b[0;36m<module>\u001b[1;34m()\u001b[0m\n\u001b[1;32m----> 1\u001b[1;33m \u001b[0mcreate_samples\u001b[0m\u001b[1;33m(\u001b[0m\u001b[0mfile_path\u001b[0m\u001b[1;33m,\u001b[0m \u001b[0msec\u001b[0m\u001b[1;33m=\u001b[0m\u001b[1;36m1\u001b[0m\u001b[1;33m)\u001b[0m\u001b[1;33m\u001b[0m\u001b[0m\n\u001b[0m",
      "\u001b[1;31mNameError\u001b[0m: name 'file_path' is not defined"
     ]
    }
   ],
   "source": [
    " create_samples, sec=1)"
   ]
  },
  {
   "cell_type": "code",
   "execution_count": null,
   "metadata": {},
   "outputs": [],
   "source": [
    "create_samples(file_path, sec=1)"
   ]
  }
 ],
 "metadata": {
  "kernelspec": {
   "display_name": "Python 3",
   "language": "python",
   "name": "python3"
  },
  "language_info": {
   "codemirror_mode": {
    "name": "ipython",
    "version": 3
   },
   "file_extension": ".py",
   "mimetype": "text/x-python",
   "name": "python",
   "nbconvert_exporter": "python",
   "pygments_lexer": "ipython3",
   "version": "3.6.6"
  }
 },
 "nbformat": 4,
 "nbformat_minor": 2
}
